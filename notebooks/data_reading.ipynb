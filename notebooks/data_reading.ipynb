{
 "cells": [
  {
   "cell_type": "code",
   "execution_count": 56,
   "metadata": {},
   "outputs": [],
   "source": [
    "import pandas as pd\n",
    "import s3fs\n",
    "import seaborn as sns\n",
    "import matplotlib.pyplot as plt\n",
    "import numpy as np\n",
    "\n",
    "from sklearn.model_selection import train_test_split"
   ]
  },
  {
   "cell_type": "markdown",
   "metadata": {},
   "source": [
    "# Data reading\n",
    "The raw data are stored in the storage system S3 through SSP cloud."
   ]
  },
  {
   "cell_type": "code",
   "execution_count": 57,
   "metadata": {},
   "outputs": [],
   "source": [
    "key_id = 'GMM5QGDEB0TR3419274E'\n",
    "access_key = 'NcEZ7tcQcu+ceuJCJNnIlkHwlruCk4cM7B0fYlyu'\n",
    "token = \"eyJhbGciOiJIUzUxMiIsInR5cCI6IkpXVCJ9.eyJhY2Nlc3NLZXkiOiJHTU01UUdERUIwVFIzNDE5Mjc0RSIsImFsbG93ZWQtb3JpZ2lucyI6WyIqIl0sImF1ZCI6WyJtaW5pby1kYXRhbm9kZSIsIm9ueXhpYSIsImFjY291bnQiXSwiYXV0aF90aW1lIjoxNjU0OTAwMjM1LCJhenAiOiJvbnl4aWEiLCJlbWFpbCI6Imlkcmlzc2Eua29ua29ib0BlbnNhZS5mciIsImVtYWlsX3ZlcmlmaWVkIjp0cnVlLCJleHAiOjE2NTQ5ODY2MzYsImZhbWlseV9uYW1lIjoiS09OS09CTyIsImdpdmVuX25hbWUiOiJJZHJpc3NhIiwiZ3JvdXBzIjpbXSwiaWF0IjoxNjU0OTAwMjM1LCJpc3MiOiJodHRwczovL2F1dGgubGFiLnNzcGNsb3VkLmZyL2F1dGgvcmVhbG1zL3NzcGNsb3VkIiwianRpIjoiYmQzYmYxMmUtODE0OC00ZTg3LWJmYjctMWI3MGE3ZmVkN2NhIiwibG9jYWxlIjoiZW4iLCJuYW1lIjoiSWRyaXNzYSBLT05LT0JPIiwibm9uY2UiOiJmZTE4YzVhNS1iY2FiLTQ2OGYtOGRiZi02ZDQ0ZjdlMThlY2EiLCJwb2xpY3kiOiJzdHNvbmx5IiwicHJlZmVycmVkX3VzZXJuYW1lIjoiaWtvbmtvYm8iLCJyZWFsbV9hY2Nlc3MiOnsicm9sZXMiOlsib2ZmbGluZV9hY2Nlc3MiLCJ1bWFfYXV0aG9yaXphdGlvbiJdfSwicmVzb3VyY2VfYWNjZXNzIjp7ImFjY291bnQiOnsicm9sZXMiOlsibWFuYWdlLWFjY291bnQiLCJtYW5hZ2UtYWNjb3VudC1saW5rcyIsInZpZXctcHJvZmlsZSJdfX0sInNjb3BlIjoib3BlbmlkIHByb2ZpbGUgZ3JvdXBzIGVtYWlsIiwic2Vzc2lvbl9zdGF0ZSI6IjgzYmFlYWJiLWFmMmMtNDVkZi1hYjhlLTkyZTI2MDY3YjAxNiIsInNpZCI6IjgzYmFlYWJiLWFmMmMtNDVkZi1hYjhlLTkyZTI2MDY3YjAxNiIsInN1YiI6IjBiMWM2YWM4LTcyZTQtNDkxYy1iMmYwLTIwOGZmYjhiMWNiNSIsInR5cCI6IkJlYXJlciJ9.WP5CVpDRfH6--hrLLE_PNgbqHZjV-kyCktngFICwctqSmNuJS8P1CKelbX7h_qKNwNVHZgp3cjq-QDfzqxouLA\"\n",
    "\n",
    "fs = s3fs.S3FileSystem(client_kwargs={'endpoint_url': 'https://'+'minio.lab.sspcloud.fr'}, key = key_id, secret = access_key, token = token)\n",
    "\n",
    "comms_df = pd.read_sas(fs.open(\"ikonkobo/commsdata/commsdata.sas7bdat\"), format='sas7bdat')"
   ]
  },
  {
   "cell_type": "code",
   "execution_count": 58,
   "metadata": {},
   "outputs": [
    {
     "data": {
      "text/plain": [
       "(56557, 128)"
      ]
     },
     "execution_count": 58,
     "metadata": {},
     "output_type": "execute_result"
    }
   ],
   "source": [
    "comms_df.shape"
   ]
  },
  {
   "cell_type": "code",
   "execution_count": 59,
   "metadata": {},
   "outputs": [
    {
     "data": {
      "text/html": [
       "<div>\n",
       "<style scoped>\n",
       "    .dataframe tbody tr th:only-of-type {\n",
       "        vertical-align: middle;\n",
       "    }\n",
       "\n",
       "    .dataframe tbody tr th {\n",
       "        vertical-align: top;\n",
       "    }\n",
       "\n",
       "    .dataframe thead th {\n",
       "        text-align: right;\n",
       "    }\n",
       "</style>\n",
       "<table border=\"1\" class=\"dataframe\">\n",
       "  <thead>\n",
       "    <tr style=\"text-align: right;\">\n",
       "      <th></th>\n",
       "      <th>Customer_ID</th>\n",
       "      <th>upsell_xsell</th>\n",
       "      <th>churn</th>\n",
       "      <th>lifetime_value</th>\n",
       "      <th>avg_arpu_3m</th>\n",
       "      <th>acct_age</th>\n",
       "      <th>billing_cycle</th>\n",
       "      <th>nbr_contracts_ltd</th>\n",
       "      <th>credit_class</th>\n",
       "      <th>sales_channel</th>\n",
       "      <th>...</th>\n",
       "      <th>pymts_late_ltd</th>\n",
       "      <th>calls_care_ltd</th>\n",
       "      <th>MB_Data_Usg_M04</th>\n",
       "      <th>MB_Data_Usg_M05</th>\n",
       "      <th>MB_Data_Usg_M06</th>\n",
       "      <th>MB_Data_Usg_M07</th>\n",
       "      <th>MB_Data_Usg_M08</th>\n",
       "      <th>MB_Data_Usg_M09</th>\n",
       "      <th>seconds_of_data_norm</th>\n",
       "      <th>seconds_of_data_log</th>\n",
       "    </tr>\n",
       "  </thead>\n",
       "  <tbody>\n",
       "    <tr>\n",
       "      <th>0</th>\n",
       "      <td>471.0</td>\n",
       "      <td>0.0</td>\n",
       "      <td>0.0</td>\n",
       "      <td>1693.8</td>\n",
       "      <td>44.980000</td>\n",
       "      <td>55.000000</td>\n",
       "      <td>4.0</td>\n",
       "      <td>7.0</td>\n",
       "      <td>b'prime'</td>\n",
       "      <td>b'Indirect'</td>\n",
       "      <td>...</td>\n",
       "      <td>5.0</td>\n",
       "      <td>57.0</td>\n",
       "      <td>0.0</td>\n",
       "      <td>0.0</td>\n",
       "      <td>0.0</td>\n",
       "      <td>0.0</td>\n",
       "      <td>0.0</td>\n",
       "      <td>0.0</td>\n",
       "      <td>60.0</td>\n",
       "      <td>4.110874</td>\n",
       "    </tr>\n",
       "    <tr>\n",
       "      <th>1</th>\n",
       "      <td>1057.0</td>\n",
       "      <td>0.0</td>\n",
       "      <td>0.0</td>\n",
       "      <td>38682.5</td>\n",
       "      <td>44.989330</td>\n",
       "      <td>47.000000</td>\n",
       "      <td>3.0</td>\n",
       "      <td>5.0</td>\n",
       "      <td>b'prime'</td>\n",
       "      <td>b'Indirect'</td>\n",
       "      <td>...</td>\n",
       "      <td>5.0</td>\n",
       "      <td>115.0</td>\n",
       "      <td>0.0</td>\n",
       "      <td>0.0</td>\n",
       "      <td>0.0</td>\n",
       "      <td>0.0</td>\n",
       "      <td>330.0</td>\n",
       "      <td>646.0</td>\n",
       "      <td>48300.0</td>\n",
       "      <td>10.785208</td>\n",
       "    </tr>\n",
       "    <tr>\n",
       "      <th>2</th>\n",
       "      <td>1177.0</td>\n",
       "      <td>0.0</td>\n",
       "      <td>0.0</td>\n",
       "      <td>5526.4</td>\n",
       "      <td>51.775434</td>\n",
       "      <td>46.176471</td>\n",
       "      <td>7.0</td>\n",
       "      <td>4.8</td>\n",
       "      <td>b'prime'</td>\n",
       "      <td>b'Retail'</td>\n",
       "      <td>...</td>\n",
       "      <td>5.0</td>\n",
       "      <td>78.0</td>\n",
       "      <td>0.0</td>\n",
       "      <td>0.0</td>\n",
       "      <td>0.0</td>\n",
       "      <td>0.0</td>\n",
       "      <td>0.0</td>\n",
       "      <td>0.0</td>\n",
       "      <td>14700.0</td>\n",
       "      <td>9.595671</td>\n",
       "    </tr>\n",
       "    <tr>\n",
       "      <th>3</th>\n",
       "      <td>1181.0</td>\n",
       "      <td>0.0</td>\n",
       "      <td>0.0</td>\n",
       "      <td>505.6</td>\n",
       "      <td>51.775434</td>\n",
       "      <td>75.000000</td>\n",
       "      <td>7.0</td>\n",
       "      <td>4.8</td>\n",
       "      <td>b'prime'</td>\n",
       "      <td>b'Retail'</td>\n",
       "      <td>...</td>\n",
       "      <td>5.0</td>\n",
       "      <td>76.0</td>\n",
       "      <td>0.0</td>\n",
       "      <td>0.0</td>\n",
       "      <td>0.0</td>\n",
       "      <td>0.0</td>\n",
       "      <td>0.0</td>\n",
       "      <td>0.0</td>\n",
       "      <td>0.0</td>\n",
       "      <td>0.000000</td>\n",
       "    </tr>\n",
       "    <tr>\n",
       "      <th>4</th>\n",
       "      <td>1185.0</td>\n",
       "      <td>0.0</td>\n",
       "      <td>1.0</td>\n",
       "      <td>9143.2</td>\n",
       "      <td>83.320000</td>\n",
       "      <td>50.000000</td>\n",
       "      <td>5.0</td>\n",
       "      <td>3.0</td>\n",
       "      <td>b'prime'</td>\n",
       "      <td>b'Indirect'</td>\n",
       "      <td>...</td>\n",
       "      <td>5.0</td>\n",
       "      <td>80.0</td>\n",
       "      <td>0.0</td>\n",
       "      <td>0.0</td>\n",
       "      <td>0.0</td>\n",
       "      <td>0.0</td>\n",
       "      <td>0.0</td>\n",
       "      <td>0.0</td>\n",
       "      <td>15840.0</td>\n",
       "      <td>9.670357</td>\n",
       "    </tr>\n",
       "    <tr>\n",
       "      <th>...</th>\n",
       "      <td>...</td>\n",
       "      <td>...</td>\n",
       "      <td>...</td>\n",
       "      <td>...</td>\n",
       "      <td>...</td>\n",
       "      <td>...</td>\n",
       "      <td>...</td>\n",
       "      <td>...</td>\n",
       "      <td>...</td>\n",
       "      <td>...</td>\n",
       "      <td>...</td>\n",
       "      <td>...</td>\n",
       "      <td>...</td>\n",
       "      <td>...</td>\n",
       "      <td>...</td>\n",
       "      <td>...</td>\n",
       "      <td>...</td>\n",
       "      <td>...</td>\n",
       "      <td>...</td>\n",
       "      <td>...</td>\n",
       "      <td>...</td>\n",
       "    </tr>\n",
       "    <tr>\n",
       "      <th>56552</th>\n",
       "      <td>3999397.0</td>\n",
       "      <td>0.0</td>\n",
       "      <td>0.0</td>\n",
       "      <td>1151.3</td>\n",
       "      <td>54.980000</td>\n",
       "      <td>58.000000</td>\n",
       "      <td>11.0</td>\n",
       "      <td>4.0</td>\n",
       "      <td>b'prime'</td>\n",
       "      <td>b'Indirect'</td>\n",
       "      <td>...</td>\n",
       "      <td>0.0</td>\n",
       "      <td>67.0</td>\n",
       "      <td>1562.0</td>\n",
       "      <td>51.0</td>\n",
       "      <td>516.0</td>\n",
       "      <td>1.0</td>\n",
       "      <td>70.0</td>\n",
       "      <td>0.0</td>\n",
       "      <td>6142.0</td>\n",
       "      <td>8.723069</td>\n",
       "    </tr>\n",
       "    <tr>\n",
       "      <th>56553</th>\n",
       "      <td>3999465.0</td>\n",
       "      <td>0.0</td>\n",
       "      <td>0.0</td>\n",
       "      <td>3672.8</td>\n",
       "      <td>37.769990</td>\n",
       "      <td>69.000000</td>\n",
       "      <td>11.0</td>\n",
       "      <td>2.0</td>\n",
       "      <td>b'prime'</td>\n",
       "      <td>b'National Sales'</td>\n",
       "      <td>...</td>\n",
       "      <td>4.0</td>\n",
       "      <td>68.0</td>\n",
       "      <td>137.0</td>\n",
       "      <td>4.0</td>\n",
       "      <td>342.0</td>\n",
       "      <td>331.0</td>\n",
       "      <td>592.0</td>\n",
       "      <td>46.0</td>\n",
       "      <td>7625.0</td>\n",
       "      <td>8.939319</td>\n",
       "    </tr>\n",
       "    <tr>\n",
       "      <th>56554</th>\n",
       "      <td>3999574.0</td>\n",
       "      <td>0.0</td>\n",
       "      <td>0.0</td>\n",
       "      <td>1112.8</td>\n",
       "      <td>54.655000</td>\n",
       "      <td>52.000000</td>\n",
       "      <td>7.0</td>\n",
       "      <td>3.0</td>\n",
       "      <td>b'risky'</td>\n",
       "      <td>b'National Sales'</td>\n",
       "      <td>...</td>\n",
       "      <td>0.0</td>\n",
       "      <td>71.0</td>\n",
       "      <td>188.0</td>\n",
       "      <td>163.0</td>\n",
       "      <td>4.0</td>\n",
       "      <td>11.0</td>\n",
       "      <td>1.0</td>\n",
       "      <td>16.0</td>\n",
       "      <td>1113.0</td>\n",
       "      <td>7.015712</td>\n",
       "    </tr>\n",
       "    <tr>\n",
       "      <th>56555</th>\n",
       "      <td>3999770.0</td>\n",
       "      <td>0.0</td>\n",
       "      <td>0.0</td>\n",
       "      <td>1126.5</td>\n",
       "      <td>64.980000</td>\n",
       "      <td>29.000000</td>\n",
       "      <td>1.0</td>\n",
       "      <td>2.0</td>\n",
       "      <td>b'prime'</td>\n",
       "      <td>b'Indirect'</td>\n",
       "      <td>...</td>\n",
       "      <td>8.0</td>\n",
       "      <td>77.0</td>\n",
       "      <td>0.0</td>\n",
       "      <td>2.0</td>\n",
       "      <td>1.0</td>\n",
       "      <td>0.0</td>\n",
       "      <td>3.0</td>\n",
       "      <td>1.0</td>\n",
       "      <td>3089.0</td>\n",
       "      <td>8.035926</td>\n",
       "    </tr>\n",
       "    <tr>\n",
       "      <th>56556</th>\n",
       "      <td>3999922.0</td>\n",
       "      <td>1.0</td>\n",
       "      <td>0.0</td>\n",
       "      <td>-114.5</td>\n",
       "      <td>61.130830</td>\n",
       "      <td>35.000000</td>\n",
       "      <td>6.0</td>\n",
       "      <td>3.0</td>\n",
       "      <td>b'near prime'</td>\n",
       "      <td>b'National Sales'</td>\n",
       "      <td>...</td>\n",
       "      <td>0.0</td>\n",
       "      <td>78.0</td>\n",
       "      <td>42.0</td>\n",
       "      <td>5.0</td>\n",
       "      <td>13.0</td>\n",
       "      <td>74.0</td>\n",
       "      <td>78.0</td>\n",
       "      <td>1.0</td>\n",
       "      <td>5900.0</td>\n",
       "      <td>8.682877</td>\n",
       "    </tr>\n",
       "  </tbody>\n",
       "</table>\n",
       "<p>56557 rows × 128 columns</p>\n",
       "</div>"
      ],
      "text/plain": [
       "       Customer_ID  upsell_xsell  churn  lifetime_value  avg_arpu_3m  \\\n",
       "0            471.0           0.0    0.0          1693.8    44.980000   \n",
       "1           1057.0           0.0    0.0         38682.5    44.989330   \n",
       "2           1177.0           0.0    0.0          5526.4    51.775434   \n",
       "3           1181.0           0.0    0.0           505.6    51.775434   \n",
       "4           1185.0           0.0    1.0          9143.2    83.320000   \n",
       "...            ...           ...    ...             ...          ...   \n",
       "56552    3999397.0           0.0    0.0          1151.3    54.980000   \n",
       "56553    3999465.0           0.0    0.0          3672.8    37.769990   \n",
       "56554    3999574.0           0.0    0.0          1112.8    54.655000   \n",
       "56555    3999770.0           0.0    0.0          1126.5    64.980000   \n",
       "56556    3999922.0           1.0    0.0          -114.5    61.130830   \n",
       "\n",
       "        acct_age  billing_cycle  nbr_contracts_ltd   credit_class  \\\n",
       "0      55.000000            4.0                7.0       b'prime'   \n",
       "1      47.000000            3.0                5.0       b'prime'   \n",
       "2      46.176471            7.0                4.8       b'prime'   \n",
       "3      75.000000            7.0                4.8       b'prime'   \n",
       "4      50.000000            5.0                3.0       b'prime'   \n",
       "...          ...            ...                ...            ...   \n",
       "56552  58.000000           11.0                4.0       b'prime'   \n",
       "56553  69.000000           11.0                2.0       b'prime'   \n",
       "56554  52.000000            7.0                3.0       b'risky'   \n",
       "56555  29.000000            1.0                2.0       b'prime'   \n",
       "56556  35.000000            6.0                3.0  b'near prime'   \n",
       "\n",
       "           sales_channel  ...  pymts_late_ltd  calls_care_ltd MB_Data_Usg_M04  \\\n",
       "0            b'Indirect'  ...             5.0            57.0             0.0   \n",
       "1            b'Indirect'  ...             5.0           115.0             0.0   \n",
       "2              b'Retail'  ...             5.0            78.0             0.0   \n",
       "3              b'Retail'  ...             5.0            76.0             0.0   \n",
       "4            b'Indirect'  ...             5.0            80.0             0.0   \n",
       "...                  ...  ...             ...             ...             ...   \n",
       "56552        b'Indirect'  ...             0.0            67.0          1562.0   \n",
       "56553  b'National Sales'  ...             4.0            68.0           137.0   \n",
       "56554  b'National Sales'  ...             0.0            71.0           188.0   \n",
       "56555        b'Indirect'  ...             8.0            77.0             0.0   \n",
       "56556  b'National Sales'  ...             0.0            78.0            42.0   \n",
       "\n",
       "      MB_Data_Usg_M05 MB_Data_Usg_M06  MB_Data_Usg_M07  MB_Data_Usg_M08  \\\n",
       "0                 0.0             0.0              0.0              0.0   \n",
       "1                 0.0             0.0              0.0            330.0   \n",
       "2                 0.0             0.0              0.0              0.0   \n",
       "3                 0.0             0.0              0.0              0.0   \n",
       "4                 0.0             0.0              0.0              0.0   \n",
       "...               ...             ...              ...              ...   \n",
       "56552            51.0           516.0              1.0             70.0   \n",
       "56553             4.0           342.0            331.0            592.0   \n",
       "56554           163.0             4.0             11.0              1.0   \n",
       "56555             2.0             1.0              0.0              3.0   \n",
       "56556             5.0            13.0             74.0             78.0   \n",
       "\n",
       "       MB_Data_Usg_M09  seconds_of_data_norm  seconds_of_data_log  \n",
       "0                  0.0                  60.0             4.110874  \n",
       "1                646.0               48300.0            10.785208  \n",
       "2                  0.0               14700.0             9.595671  \n",
       "3                  0.0                   0.0             0.000000  \n",
       "4                  0.0               15840.0             9.670357  \n",
       "...                ...                   ...                  ...  \n",
       "56552              0.0                6142.0             8.723069  \n",
       "56553             46.0                7625.0             8.939319  \n",
       "56554             16.0                1113.0             7.015712  \n",
       "56555              1.0                3089.0             8.035926  \n",
       "56556              1.0                5900.0             8.682877  \n",
       "\n",
       "[56557 rows x 128 columns]"
      ]
     },
     "execution_count": 59,
     "metadata": {},
     "output_type": "execute_result"
    }
   ],
   "source": [
    "comms_df"
   ]
  },
  {
   "cell_type": "code",
   "execution_count": 60,
   "metadata": {},
   "outputs": [
    {
     "data": {
      "text/plain": [
       "count    56557.000000\n",
       "mean         0.121329\n",
       "std          0.326512\n",
       "min          0.000000\n",
       "25%          0.000000\n",
       "50%          0.000000\n",
       "75%          0.000000\n",
       "max          1.000000\n",
       "Name: churn, dtype: float64"
      ]
     },
     "execution_count": 60,
     "metadata": {},
     "output_type": "execute_result"
    }
   ],
   "source": [
    "comms_df.churn.describe()"
   ]
  },
  {
   "cell_type": "markdown",
   "metadata": {},
   "source": [
    "# Data preprocessing\n",
    "\n",
    "The project focuses on churn prediction and the dataset has 2 potential target variables which are \n",
    "+ *churn* : indicates wheteher customer churned \n",
    "+ *upsell_xsell* : indicates customer’s flag for cross-sell or up-sell. \n",
    "Since we focus on churn prediction, *upsell_xsell* will be deleted. \n",
    "\n",
    "Furthermore, the variables listed below are useless for predictive modeling and will be rejected :\n",
    "+ city\n",
    "+ city_lat\n",
    "+ city_long\n",
    "+ data_usage_amt\n",
    "+ mou_onnet_6m_normal\n",
    "+ mou_roam_6m_normal\n",
    "+ region_lat\n",
    "+ region_long\n",
    "+ state_lat\n",
    "+ state_long\n",
    "+ tweedie_adjusted\n",
    "\n",
    "In addition, we notice that character variables are showed in this format b'prime'. We will suppress characters 'b' and '."
   ]
  },
  {
   "cell_type": "code",
   "execution_count": 61,
   "metadata": {},
   "outputs": [],
   "source": [
    "comms_df.drop([\"upsell_xsell\", \"city\", \"city_lat\", \"city_long\", \"data_usage_amt\", \"mou_onnet_6m_normal\", \"mou_roam_6m_normal\", \"region_lat\",\n",
    "\"region_long\", \"state_lat\", \"state_long\", \"tweedie_adjusted\"], axis=1, inplace=True)"
   ]
  },
  {
   "cell_type": "code",
   "execution_count": 62,
   "metadata": {},
   "outputs": [],
   "source": [
    "list_vars_object = list(comms_df.select_dtypes(exclude = ['int64', 'float64']).columns)\n",
    "\n",
    "for var in list_vars_object:\n",
    "    comms_df[var] = comms_df[var].apply(lambda x : x.decode(\"utf-8\"))"
   ]
  },
  {
   "cell_type": "code",
   "execution_count": 63,
   "metadata": {},
   "outputs": [],
   "source": [
    "df_val_mqtes = comms_df.isnull().sum().to_frame().reset_index()\n",
    "df_val_mqtes.columns = [\"variable\", \"nb_valeur_manquante\"]\n",
    "df_val_mqtes = df_val_mqtes[df_val_mqtes.nb_valeur_manquante > 0].reset_index(drop=True)\n",
    "df_val_mqtes['pourcent_valeur_manquante'] = round(100 * df_val_mqtes['nb_valeur_manquante'] / comms_df.shape[0], 2)\n",
    "df_val_mqtes = df_val_mqtes.sort_values('nb_valeur_manquante', ascending=False).reset_index(drop=True)\n"
   ]
  },
  {
   "cell_type": "code",
   "execution_count": 68,
   "metadata": {},
   "outputs": [
    {
     "data": {
      "text/plain": [
       "['mou_roam_pct_MOM',\n",
       " 'mou_onnet_pct_MOM',\n",
       " 'mou_total_pct_MOM',\n",
       " 'seconds_of_data_log',\n",
       " 'tot_drpd_pr1',\n",
       " 'nbr_data_cdrs',\n",
       " 'data_device_age',\n",
       " 'cs_afr_amer',\n",
       " 'cs_hispanic',\n",
       " 'cs_other',\n",
       " 'cs_ttl_hhlds',\n",
       " 'cs_caucasian',\n",
       " 'cs_ttl_rural',\n",
       " 'cs_ttl_male',\n",
       " 'cs_ttl_female',\n",
       " 'cs_ttl_mdage',\n",
       " 'cs_ttl_urban',\n",
       " 'cs_ttl_pop',\n",
       " 'data_prem_chrgs_curr',\n",
       " 'avg_overage_chrgs_3m',\n",
       " 'avg_data_prem_chrgs_3m',\n",
       " 'avg_data_chrgs_3m',\n",
       " 'tot_voice_chrgs_curr',\n",
       " 'tot_overage_chgs',\n",
       " 'avg_arpu_3m',\n",
       " 'MB_Data_Usg_M09',\n",
       " 'cs_pct_home_owner',\n",
       " 'cs_med_home_value',\n",
       " 'mb_data_ndist_mo6m']"
      ]
     },
     "execution_count": 68,
     "metadata": {},
     "output_type": "execute_result"
    }
   ],
   "source": [
    "list(df_val_mqtes.variable)"
   ]
  },
  {
   "cell_type": "code",
   "execution_count": 69,
   "metadata": {},
   "outputs": [
    {
     "data": {
      "text/plain": [
       "['tot_drpd_pr1']"
      ]
     },
     "execution_count": 69,
     "metadata": {},
     "output_type": "execute_result"
    }
   ],
   "source": [
    "l_ = [var for var in list(df_val_mqtes.variable) if len(comms_df[var].unique()) < 50]\n",
    "\n",
    "l_"
   ]
  },
  {
   "cell_type": "code",
   "execution_count": 81,
   "metadata": {},
   "outputs": [
    {
     "data": {
      "text/plain": [
       "2.0"
      ]
     },
     "execution_count": 81,
     "metadata": {},
     "output_type": "execute_result"
    }
   ],
   "source": [
    "comms_df[\"tot_drpd_pr1\"].value_counts(ascending=False).to_frame().reset_index().iloc[0, 0]"
   ]
  },
  {
   "cell_type": "code",
   "execution_count": null,
   "metadata": {},
   "outputs": [],
   "source": [
    "comms_df"
   ]
  },
  {
   "cell_type": "code",
   "execution_count": null,
   "metadata": {},
   "outputs": [],
   "source": [
    "sns.histplot(comms_df[df_val_mqtes.variable[4]])#, bins=100)\n",
    "plt.show()"
   ]
  },
  {
   "cell_type": "markdown",
   "metadata": {},
   "source": [
    "# Data splitting"
   ]
  },
  {
   "cell_type": "code",
   "execution_count": null,
   "metadata": {},
   "outputs": [],
   "source": [
    "comms_df.churn.describe()"
   ]
  },
  {
   "cell_type": "markdown",
   "metadata": {},
   "source": [
    "The target variable churn seems to not have missing values. The dataset contains 12.13 % of customers churned. We will split the dataset to 70 % for training and 30% for test using *churn* as startify variable."
   ]
  },
  {
   "cell_type": "code",
   "execution_count": null,
   "metadata": {},
   "outputs": [],
   "source": [
    "X = comms_df.drop(columns=[\"churn\"])\n",
    "y = comms_df.churn"
   ]
  },
  {
   "cell_type": "code",
   "execution_count": null,
   "metadata": {},
   "outputs": [],
   "source": [
    "X_train, X_test, y_train, y_test = train_test_split(X, y, test_size=0.30, stratify=y, random_state=42)"
   ]
  },
  {
   "cell_type": "code",
   "execution_count": null,
   "metadata": {},
   "outputs": [],
   "source": [
    "train = X_train \n",
    "train[\"churn\"] = y_train\n",
    "\n",
    "test = X_test \n",
    "test[\"churn\"] = y_test"
   ]
  },
  {
   "cell_type": "code",
   "execution_count": null,
   "metadata": {},
   "outputs": [],
   "source": [
    "test.to_csv(\"/home/coder/.config/code-server/telco_churn/data/raw/test.csv\", index=False)\n",
    "train.to_csv(\"/home/coder/.config/code-server/telco_churn/data/raw/train.csv\", index=False)"
   ]
  },
  {
   "cell_type": "code",
   "execution_count": null,
   "metadata": {},
   "outputs": [],
   "source": [
    "df_test = pd.read_csv(\"/home/coder/.config/code-server/telco_churn/data/raw/test.csv\")\n",
    "df_test"
   ]
  }
 ],
 "metadata": {
  "interpreter": {
   "hash": "ed5946f2a0d3f5e934efd92075c2a89b2cb5130d0efd6e4509a568bedf48ed26"
  },
  "kernelspec": {
   "display_name": "Python 3.10.4 ('basesspcloud')",
   "language": "python",
   "name": "python3"
  },
  "language_info": {
   "codemirror_mode": {
    "name": "ipython",
    "version": 3
   },
   "file_extension": ".py",
   "mimetype": "text/x-python",
   "name": "python",
   "nbconvert_exporter": "python",
   "pygments_lexer": "ipython3",
   "version": "3.10.4"
  },
  "orig_nbformat": 4
 },
 "nbformat": 4,
 "nbformat_minor": 2
}
